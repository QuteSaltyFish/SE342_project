{
 "cells": [
  {
   "cell_type": "code",
   "execution_count": 13,
   "metadata": {},
   "outputs": [],
   "source": [
    "import numpy as np\n",
    "import cv2\n",
    "from matplotlib import pyplot as plt\n",
    "import math"
   ]
  },
  {
   "cell_type": "code",
   "execution_count": 14,
   "metadata": {},
   "outputs": [],
   "source": [
    "img = cv2.imread('test2.png')"
   ]
  },
  {
   "cell_type": "code",
   "execution_count": 15,
   "metadata": {},
   "outputs": [],
   "source": [
    "origin = cv2.imread('img2.jpg')"
   ]
  },
  {
   "cell_type": "code",
   "execution_count": 16,
   "metadata": {},
   "outputs": [
    {
     "ename": "AttributeError",
     "evalue": "'NoneType' object has no attribute 'shape'",
     "output_type": "error",
     "traceback": [
      "\u001b[0;31m---------------------------------------------------------------------------\u001b[0m",
      "\u001b[0;31mAttributeError\u001b[0m                            Traceback (most recent call last)",
      "\u001b[0;32m<ipython-input-16-ed27254f6ca7>\u001b[0m in \u001b[0;36m<module>\u001b[0;34m\u001b[0m\n\u001b[0;32m----> 1\u001b[0;31m \u001b[0mM\u001b[0m\u001b[0;34m,\u001b[0m \u001b[0mN\u001b[0m\u001b[0;34m,\u001b[0m \u001b[0mC\u001b[0m \u001b[0;34m=\u001b[0m \u001b[0mimg\u001b[0m\u001b[0;34m.\u001b[0m\u001b[0mshape\u001b[0m\u001b[0;34m\u001b[0m\u001b[0;34m\u001b[0m\u001b[0m\n\u001b[0m\u001b[1;32m      2\u001b[0m \u001b[0morigin\u001b[0m \u001b[0;34m=\u001b[0m \u001b[0mcv2\u001b[0m\u001b[0;34m.\u001b[0m\u001b[0mresize\u001b[0m\u001b[0;34m(\u001b[0m\u001b[0morigin\u001b[0m\u001b[0;34m,\u001b[0m \u001b[0;34m(\u001b[0m\u001b[0mN\u001b[0m\u001b[0;34m,\u001b[0m \u001b[0mM\u001b[0m\u001b[0;34m)\u001b[0m\u001b[0;34m)\u001b[0m\u001b[0;34m\u001b[0m\u001b[0;34m\u001b[0m\u001b[0m\n",
      "\u001b[0;31mAttributeError\u001b[0m: 'NoneType' object has no attribute 'shape'"
     ]
    }
   ],
   "source": [
    "M, N, C = img.shape\n",
    "origin = cv2.resize(origin, (N, M))"
   ]
  },
  {
   "cell_type": "code",
   "execution_count": 0,
   "metadata": {},
   "outputs": [],
   "source": [
    "img = np.rot90(img)\n",
    "origin = np.rot90(origin)"
   ]
  },
  {
   "cell_type": "code",
   "execution_count": 0,
   "metadata": {},
   "outputs": [],
   "source": [
    "plt.imshow(img)"
   ]
  },
  {
   "cell_type": "code",
   "execution_count": 0,
   "metadata": {},
   "outputs": [],
   "source": [
    "plt.imshow(origin)"
   ]
  },
  {
   "cell_type": "code",
   "execution_count": 0,
   "metadata": {},
   "outputs": [],
   "source": [
    "def img_label(origin, result):\n",
    "    # origin: 原图\n",
    "    # result: unet输出 + 处理后的结果\n",
    "    # 两者shape应该相等\n",
    "    \n",
    "    dst = origin.copy()\n",
    "    \n",
    "    gray = cv2.cvtColor(result, cv2.COLOR_BGR2GRAY)\n",
    "    _, _, stats, centroid = cv2.connectedComponentsWithStats(gray, connectivity=8) # 提取连通分量的边框和中心值\n",
    "    \n",
    "    # 去除背景\n",
    "    stats = stats[1:, ...]\n",
    "    centroid = centroid[1:, ...].astype(np.int32)\n",
    "    \n",
    "    # 给原图中的瓶盖染色\n",
    "    indices = np.sum((result != (0, 0, 0)), axis=-1, dtype=np.bool)\n",
    "    dst[indices, :] = result[indices, :]\n",
    "    \n",
    "    for i in range(len(stats)):\n",
    "        cx, cy = centroid[i]\n",
    "        x, y, w, h, _ = stats[i]\n",
    "        black = (0, 0, 0)\n",
    "        string = '({}, {})'.format(cx, cy)\n",
    "        \n",
    "        if result[cy, cx, 1] == 255: # 侧着\n",
    "            idx = np.where(result[y:y+h, x:x+w, 1] == 255) # 连通分量\n",
    "            \n",
    "            # 根据矩形长宽比确定拟合的自变量\n",
    "            if w > h:\n",
    "                p = np.polyfit(idx[1], idx[0], 1)\n",
    "                angle = int(math.atan2(1, p[0]) / math.pi * 180)\n",
    "            else:\n",
    "                p = np.polyfit(idx[0], idx[1], 1)\n",
    "                angle = int(math.atan2(p[0], 1) / math.pi * 180)\n",
    "                \n",
    "                if angle < 0:\n",
    "                    angle += 180\n",
    "                \n",
    "            string += ' {}deg'.format(angle)\n",
    "        \n",
    "        dst = cv2.putText(dst, string, (x, y), cv2.FONT_HERSHEY_SIMPLEX, 1, black)\n",
    "        \n",
    "    return dst"
   ]
  },
  {
   "cell_type": "code",
   "execution_count": 0,
   "metadata": {},
   "outputs": [],
   "source": [
    "dst = img_label(origin, img)"
   ]
  },
  {
   "cell_type": "code",
   "execution_count": 0,
   "metadata": {},
   "outputs": [],
   "source": [
    "cv2.imshow('output', dst)\n",
    "cv2.waitKey(0)"
   ]
  },
  {
   "cell_type": "code",
   "execution_count": 0,
   "metadata": {},
   "outputs": [],
   "source": [
    "cv2.imwrite('out.png', dst)"
   ]
  },
  {
   "cell_type": "code",
   "execution_count": 0,
   "metadata": {},
   "outputs": [],
   "source": [
    "plt.imshow(dst)"
   ]
  },
  {
   "cell_type": "code",
   "execution_count": null,
   "metadata": {},
   "outputs": [],
   "source": []
  }
 ],
 "metadata": {
  "kernelspec": {
   "display_name": "Python 3",
   "language": "python",
   "name": "python3"
  },
  "language_info": {
   "codemirror_mode": {
    "name": "ipython",
    "version": 3
   },
   "file_extension": ".py",
   "mimetype": "text/x-python",
   "name": "python",
   "nbconvert_exporter": "python",
   "pygments_lexer": "ipython3",
   "version": "3.7.5"
  }
 },
 "nbformat": 4,
 "nbformat_minor": 2
}